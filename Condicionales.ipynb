{
  "nbformat": 4,
  "nbformat_minor": 0,
  "metadata": {
    "colab": {
      "name": "Condicionales.ipynb",
      "provenance": [],
      "collapsed_sections": [],
      "mount_file_id": "1Cu_xj9WahJnf6Z7k_iAKtqa1wBzs9hah",
      "authorship_tag": "ABX9TyMUZH2gfn8wTcLA7dza1Rqu",
      "include_colab_link": true
    },
    "kernelspec": {
      "name": "python3",
      "display_name": "Python 3"
    }
  },
  "cells": [
    {
      "cell_type": "markdown",
      "metadata": {
        "id": "view-in-github",
        "colab_type": "text"
      },
      "source": [
        "<a href=\"https://colab.research.google.com/github/Lu-Cat-an/LucCat/blob/master/Condicionales.ipynb\" target=\"_parent\"><img src=\"https://colab.research.google.com/assets/colab-badge.svg\" alt=\"Open In Colab\"/></a>"
      ]
    },
    {
      "cell_type": "markdown",
      "metadata": {
        "id": "rQ4iO5BUyVaa",
        "colab_type": "text"
      },
      "source": [
        "http://aprendeconalf.es/python/ejercicios/condicionales.html"
      ]
    },
    {
      "cell_type": "code",
      "metadata": {
        "id": "0E8EH9svyO5g",
        "colab_type": "code",
        "outputId": "bba6e16d-cd63-4e2a-fb1e-647bc9adc6a4",
        "colab": {
          "base_uri": "https://localhost:8080/",
          "height": 52
        }
      },
      "source": [
        "#ejercicio1\n",
        "def verificador(edad):\n",
        "  if(edad >= 18 ):\n",
        "    print(\"Es mayor de edad   \")\n",
        "  else:\n",
        "    print(\"Es menor de edad   \")\n",
        "\n",
        "\n",
        "edad = float(input(\"Ingresa tu edad   \"))\n",
        "\n",
        "verificador(edad)"
      ],
      "execution_count": 0,
      "outputs": [
        {
          "output_type": "stream",
          "text": [
            "Ingresa tu edad   5\n",
            "Es menor de edad   \n"
          ],
          "name": "stdout"
        }
      ]
    },
    {
      "cell_type": "code",
      "metadata": {
        "id": "BbBQsSTPy88w",
        "colab_type": "code",
        "outputId": "13dd5bf4-d730-420e-fae5-2ab381dc9a8c",
        "colab": {
          "base_uri": "https://localhost:8080/",
          "height": 105
        }
      },
      "source": [
        "#Ejercicio2\n",
        "def veriContra(contra,contra2):\n",
        "  if contra.upper() == contra2.upper() :\n",
        "    print(\"Ambas contraseñas coinciden\")\n",
        "    print(contra)\n",
        "    print(contra2)\n",
        "  else:\n",
        "    print(\"Ambas contraseñas no coinciden\")\n",
        "    print(contra.upper())\n",
        "    print(contra2.upper())\n",
        "\n",
        "contra = input(\"Ingrese contraseña:  \")\n",
        "\n",
        "contra2 = input(\"Ingrese nuevamente la contraseña:   \")\n",
        "\n",
        "veriContra(contra, contra2)"
      ],
      "execution_count": 0,
      "outputs": [
        {
          "output_type": "stream",
          "text": [
            "Ingrese contraseña:  lucas\n",
            "Ingrese nuevamente la contraseña:   manzanAaa\n",
            "Ambas contraseñas no coinciden\n",
            "LUCAS\n",
            "MANZANAAA\n"
          ],
          "name": "stdout"
        }
      ]
    },
    {
      "cell_type": "code",
      "metadata": {
        "id": "-kcypV_H1ToL",
        "colab_type": "code",
        "outputId": "b70a230b-5e22-4c49-b360-d1648fcd8c9a",
        "colab": {
          "base_uri": "https://localhost:8080/",
          "height": 70
        }
      },
      "source": [
        "#Ejercicio3\n",
        "def division(num1,num2):\n",
        "  if num2 == 0 :\n",
        "    print(\"No se puede dividir por 0\")\n",
        "  else:\n",
        "    print(\"El resultado de la division es: \", num1/num2)\n",
        "num1 = float(input(\"Ingrese el primer numero:  \"))\n",
        "num2 = float(input(\"Ingrese el segundo numero:  \"))\n",
        "\n",
        "division(num1,num2)"
      ],
      "execution_count": 0,
      "outputs": [
        {
          "output_type": "stream",
          "text": [
            "Ingrese el primer numero:  24\n",
            "Ingrese el segundo numero:  6\n",
            "El resultado de la division es:  4.0\n"
          ],
          "name": "stdout"
        }
      ]
    },
    {
      "cell_type": "code",
      "metadata": {
        "id": "AsueIa4i4PE7",
        "colab_type": "code",
        "outputId": "fe133f34-5964-41eb-ca36-9bd1e88132a6",
        "colab": {
          "base_uri": "https://localhost:8080/",
          "height": 52
        }
      },
      "source": [
        "#Ejercicio4\n",
        "def esPar(num):\n",
        "  if num%2 == 0 :\n",
        "    print(\"Es par\")\n",
        "  else:\n",
        "    print(\"Es impar\")\n",
        "\n",
        "num = int(input(\"Ingrese el numero:  \"))\n",
        "\n",
        "esPar(num)"
      ],
      "execution_count": 0,
      "outputs": [
        {
          "output_type": "stream",
          "text": [
            "Ingrese el numero:  4\n",
            "Es par\n"
          ],
          "name": "stdout"
        }
      ]
    },
    {
      "cell_type": "code",
      "metadata": {
        "id": "zbaL5IKc5Ipa",
        "colab_type": "code",
        "outputId": "d5f849da-11cc-43a3-b4df-5d98dfc0aa12",
        "colab": {
          "base_uri": "https://localhost:8080/",
          "height": 70
        }
      },
      "source": [
        "#Ejercicio5\n",
        "def tributar(eda,ingreso):\n",
        "  if eda >= 16 and ingreso >= 10000 :\n",
        "    print(\"Debe tributar\")\n",
        "  else:\n",
        "    print(\"No debe tributar\")\n",
        "\n",
        "eda = float(input(\"Ingrese su edad     \"))\n",
        "\n",
        "ingreso =float(input(\"Ingrese su ingreso    \"))\n",
        "\n",
        "tributar(eda,ingreso)"
      ],
      "execution_count": 0,
      "outputs": [
        {
          "output_type": "stream",
          "text": [
            "Ingrese su edad     15\n",
            "Ingrese su ingreso    20000000000\n",
            "No debe tributar\n"
          ],
          "name": "stdout"
        }
      ]
    },
    {
      "cell_type": "code",
      "metadata": {
        "id": "Y7huxXKP6W8M",
        "colab_type": "code",
        "outputId": "e083cea1-ca82-44ac-e4c3-121b97b98882",
        "colab": {
          "base_uri": "https://localhost:8080/",
          "height": 70
        }
      },
      "source": [
        "#Ejercicio6\n",
        "\n",
        "def grupos(nombre,sexo):\n",
        "  listaNom = [nombre]\n",
        "  if(nombre.lower() < \"m\"  and sexo.lower() == \"mujer\" ) or (nombre.lower() > \"n\"  and sexo.lower() == \"hombre\" ):\n",
        "    print(\"Es del grupo A\")\n",
        "  else:\n",
        "    print(\"Es del grupo B\")\n",
        "\n",
        "\n",
        "nombre = input(\"Ingrese nombre:   \")\n",
        "\n",
        "sexo = input(\"Ingrese su genero:   \")\n",
        "\n",
        "grupos(nombre,sexo)"
      ],
      "execution_count": 0,
      "outputs": [
        {
          "output_type": "stream",
          "text": [
            "Ingrese nombre:   Joana\n",
            "Ingrese su genero:   MUJER\n",
            "Es del grupo A\n"
          ],
          "name": "stdout"
        }
      ]
    },
    {
      "cell_type": "code",
      "metadata": {
        "id": "76pPgk9u5_Wi",
        "colab_type": "code",
        "colab": {
          "base_uri": "https://localhost:8080/",
          "height": 68
        },
        "outputId": "4f6cd590-4456-4fad-a40c-dca2f9ff583b"
      },
      "source": [
        "#Ejercicio7\n",
        "def renta(rent):\n",
        "  if rent < 10000 :\n",
        "    print(\"Le corresponde un tipo impositivo del 5% . \")\n",
        "    print(\"Debera pagar : \" , rent + rent / 100 * 5)\n",
        "\n",
        "  elif rent >= 10000 and rent < 20000 :\n",
        "    print(\"Le corresponde un tipo impositivo del 15% . \")\n",
        "    print(\"Debera pagar : \" , rent + rent / 100 * 15)\n",
        "\n",
        "  elif rent >= 20000 and rent < 35000 :\n",
        "    print(\"Le corresponde un tipo impositivo del 20% . \")\n",
        "    print(\"Debera pagar : \" , rent + rent / 100 * 20)\n",
        "\n",
        "  elif rent >= 35000 and rent < 60000 :\n",
        "    print(\"Le corresponde un tipo impositivo del 30% . \")\n",
        "    print(\"Debera pagar : \" , rent + rent / 100 * 30)\n",
        "\n",
        "  elif rent >= 60000 :\n",
        "    print(\"Le corresponde un tipo impositivo del 45% . \")\n",
        "    print(\"Debera pagar : \" , rent + rent / 100 * 45)\n",
        "\n",
        "rent = float(input(\"Ingrese su renta anual   \"))\n",
        "\n",
        "renta(rent)"
      ],
      "execution_count": 3,
      "outputs": [
        {
          "output_type": "stream",
          "text": [
            "Ingrese su renta anual   60000\n",
            "Le corresponde un tipo impositivo del 45% . \n",
            "Debera pagar :  87000.0\n"
          ],
          "name": "stdout"
        }
      ]
    },
    {
      "cell_type": "code",
      "metadata": {
        "id": "PdwXb8UZ-Xyz",
        "colab_type": "code",
        "colab": {
          "base_uri": "https://localhost:8080/",
          "height": 68
        },
        "outputId": "4d544e4a-155a-4625-99de-ba6260fdca47"
      },
      "source": [
        "#Ejercicio8\n",
        "\n",
        "def rendimiento(rendi):\n",
        "  if (rendi > 0.0 and rendi < 0.4) or (rendi > 0.4 and rendi < 0.6):\n",
        "    print(\"No es un valor valido\")\n",
        "  elif rendi == 0.0 :\n",
        "    print(\"Su nivel de rendimiento es inaceptable\")\n",
        "    print(\"Le corresponde:  \",rendi*2400)\n",
        "  elif rendi == 0.4 :\n",
        "    print(\"Su nivel de rendimiento es aceptable\")\n",
        "    print(\"Le corresponde:  \",rendi*2400)\n",
        "  elif rendi >= 0.6 :\n",
        "    print(\"Su nivel de rendimiento es meritorio\")\n",
        "    print(\"Le corresponde:  \",rendi*2400)\n",
        "\n",
        "\n",
        "rendi = float(input(\"Ingrese su valor de rendimiento.    \"))\n",
        "\n",
        "rendimiento(rendi)"
      ],
      "execution_count": 8,
      "outputs": [
        {
          "output_type": "stream",
          "text": [
            "Ingrese su valor de rendimiento.    0.6\n",
            "Su nivel de rendimiento es meritorio\n",
            "Le corresponde:   1440.0\n"
          ],
          "name": "stdout"
        }
      ]
    },
    {
      "cell_type": "code",
      "metadata": {
        "id": "jJiFtA5tBMQC",
        "colab_type": "code",
        "colab": {
          "base_uri": "https://localhost:8080/",
          "height": 51
        },
        "outputId": "1d241686-c26a-483c-f8ba-c501e8f44038"
      },
      "source": [
        "#Ejercicio9\n",
        "\n",
        "def cobrar(edad):\n",
        "  if edad < 4 : \n",
        "    print(\"La entrada es gratis\")\n",
        "\n",
        "  elif edad >= 4 and edad <18 :\n",
        "    print(\"El precio de la entrada es de 5$\")\n",
        "\n",
        "  elif edad >= 18 :\n",
        "    print(\"El precio de la entrada es de 10$\")\n",
        "\n",
        "edad = float(input(\"Ingrese la edad del usuario.  \"))\n",
        "\n",
        "cobrar(edad)"
      ],
      "execution_count": 12,
      "outputs": [
        {
          "output_type": "stream",
          "text": [
            "Ingrese la edad del usuario.  18\n",
            "El precio de la entrada es de 10$\n"
          ],
          "name": "stdout"
        }
      ]
    },
    {
      "cell_type": "code",
      "metadata": {
        "id": "yc2iNPN3Cb-D",
        "colab_type": "code",
        "colab": {
          "base_uri": "https://localhost:8080/",
          "height": 85
        },
        "outputId": "2859fb25-de1d-44ac-f324-60937c2a4509"
      },
      "source": [
        "def vegetariana():\n",
        "  elec = input(\"Elegir pimenton o tofu ( P/T)  \")\n",
        "  if elec.upper() == \"P\" :\n",
        "    print(\"La pizza elegida es vegetariana\")\n",
        "    print(\"Contiene mozzarella , tomate y pimenton\")\n",
        "\n",
        "  elif elec.upper() == \"T\" :\n",
        "    print(\"La pizza elegida es vegetariana\")\n",
        "    print(\"Contiene mozzarella , tomate y tofu\")\n",
        "\n",
        "  else:\n",
        "    print(\"Eleccion incorecta\")\n",
        "\n",
        "def noVegetariana():\n",
        "  elec = input(\"Elegir peperoni, jamón y salmón ( P/J/S)  \")\n",
        "  if elec.upper() == \"P\" :\n",
        "    print(\"La pizza elegida no es vegetariana\")\n",
        "    print(\"Contiene mozzarella , tomate y peperoni\")\n",
        "\n",
        "  elif elec.upper() == \"J\" :\n",
        "    print(\"La pizza elegida no es vegetariana\")\n",
        "    print(\"Contiene mozzarella , tomate y jamon\")\n",
        "\n",
        "  elif elec.upper() == \"S\" :\n",
        "    print(\"La pizza elegida no es vegetariana\")\n",
        "    print(\"Contiene mozzarella , tomate y salmón\")\n",
        "\n",
        "  else:\n",
        "    print(\"Eleccion incorecta\")\n",
        "\n",
        "elec = input(\"Quiere pizza vegetariana? Y/N   \")\n",
        "if elec.upper() == \"Y\":\n",
        "  vegetariana()  \n",
        "elif elec.upper() == \"N\":\n",
        "  noVegetariana()\n",
        "else :\n",
        "  print(\"Eleccion no valida.\")\n",
        "\n"
      ],
      "execution_count": 20,
      "outputs": [
        {
          "output_type": "stream",
          "text": [
            "Quiere pizza vegetariana? Y/N   Y\n",
            "Elegir pimenton o tofu ( P/T)P\n",
            "La pizza elegida es vegetariana\n",
            "Contiene mozzarella , tomate y pimenton\n"
          ],
          "name": "stdout"
        }
      ]
    },
    {
      "cell_type": "code",
      "metadata": {
        "id": "dqDjdFjCQf00",
        "colab_type": "code",
        "colab": {}
      },
      "source": [
        ""
      ],
      "execution_count": 0,
      "outputs": []
    }
  ]
}